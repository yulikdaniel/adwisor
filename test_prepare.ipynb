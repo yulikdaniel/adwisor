{
 "cells": [
  {
   "cell_type": "code",
   "execution_count": 11,
   "metadata": {},
   "outputs": [],
   "source": [
    "import os"
   ]
  },
  {
   "cell_type": "code",
   "execution_count": 12,
   "metadata": {},
   "outputs": [],
   "source": [
    "with open(\"database\", 'r') as f:\n",
    "    lines = [x.strip() for x in f.readlines()]\n",
    "\n",
    "correct = []\n",
    "wrong = []\n",
    "\n",
    "correctPref = \"- correct: \"\n",
    "wrongPref = \"- text:    \"\n",
    "\n",
    "for i in range(len(lines)):\n",
    "    if lines[i][:len(correctPref)] == correctPref:\n",
    "        correct.append(lines[i][len(correctPref):])\n",
    "    if lines[i][:len(wrongPref)] == wrongPref:\n",
    "        wrong.append(lines[i][len(wrongPref):])\n"
   ]
  },
  {
   "cell_type": "code",
   "execution_count": 15,
   "metadata": {},
   "outputs": [],
   "source": [
    "with open(os.path.join(\"test\", \"jetbrains\", \"correct.txt\"), 'w') as f:\n",
    "    for x in correct:\n",
    "        print(x, file=f)\n",
    "with open(os.path.join(\"test\", \"jetbrains\", \"wrong.txt\"), 'w') as f:\n",
    "    for x in wrong:\n",
    "        print(x, file=f)"
   ]
  },
  {
   "cell_type": "code",
   "execution_count": null,
   "metadata": {},
   "outputs": [],
   "source": []
  }
 ],
 "metadata": {
  "kernelspec": {
   "display_name": "Python 3",
   "language": "python",
   "name": "python3"
  },
  "language_info": {
   "codemirror_mode": {
    "name": "ipython",
    "version": 3
   },
   "file_extension": ".py",
   "mimetype": "text/x-python",
   "name": "python",
   "nbconvert_exporter": "python",
   "pygments_lexer": "ipython3",
   "version": "3.8.10"
  }
 },
 "nbformat": 4,
 "nbformat_minor": 4
}
